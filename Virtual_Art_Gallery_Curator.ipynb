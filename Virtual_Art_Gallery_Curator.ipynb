{
  "nbformat": 4,
  "nbformat_minor": 0,
  "metadata": {
    "colab": {
      "provenance": [],
      "authorship_tag": "ABX9TyOISDDq92AX5RLagZx0In+b",
      "include_colab_link": true
    },
    "kernelspec": {
      "name": "python3",
      "display_name": "Python 3"
    },
    "language_info": {
      "name": "python"
    }
  },
  "cells": [
    {
      "cell_type": "markdown",
      "metadata": {
        "id": "view-in-github",
        "colab_type": "text"
      },
      "source": [
        "<a href=\"https://colab.research.google.com/github/amayars/Virtual-Art-Gallery-Curator/blob/main/Virtual_Art_Gallery_Curator.ipynb\" target=\"_parent\"><img src=\"https://colab.research.google.com/assets/colab-badge.svg\" alt=\"Open In Colab\"/></a>"
      ]
    },
    {
      "cell_type": "code",
      "execution_count": 1,
      "metadata": {
        "colab": {
          "base_uri": "https://localhost:8080/"
        },
        "id": "kFu2_ecYWCG4",
        "outputId": "85a11854-0e0c-42fa-9e4a-b9136cca706c"
      },
      "outputs": [
        {
          "output_type": "stream",
          "name": "stdout",
          "text": [
            "Title: Starry Night\n",
            "Artist: Vincent van Gogh\n",
            "Description: A swirling post-impressionist masterpiece...\n",
            "Price: $10000000\n",
            "--------------------\n",
            "Title: The Persistence of Memory\n",
            "Artist: Salvador Dali\n",
            "Description: Melting clocks defy time...\n",
            "Price: $20000000\n",
            "--------------------\n",
            "Search by title: 'Night'\n",
            "Title: Starry Night\n",
            "Artist: Vincent van Gogh\n",
            "Description: A swirling post-impressionist masterpiece...\n",
            "Price: $10000000\n",
            "--------------------\n",
            "Search by artist: 'Dali'\n",
            "Title: The Persistence of Memory\n",
            "Artist: Salvador Dali\n",
            "Description: Melting clocks defy time...\n",
            "Price: $20000000\n",
            "--------------------\n"
          ]
        }
      ],
      "source": [
        "class Artwork:\n",
        "  def __init__(self, title, artist, description, price, image_path):\n",
        "    self.title = title\n",
        "    self.artist = artist\n",
        "    self.description = description\n",
        "    self.price = price\n",
        "    self.image_path = image_path\n",
        "\n",
        "  def display_info(self):\n",
        "    print(f\"Title: {self.title}\")\n",
        "    print(f\"Artist: {self.artist}\")\n",
        "    print(f\"Description: {self.description}\")\n",
        "    print(f\"Price: ${self.price}\")\n",
        "\n",
        "class ArtGallery:\n",
        "  def __init__(self):\n",
        "    self.collection = []\n",
        "\n",
        "  def add_artwork(self, artwork):\n",
        "    self.collection.append(artwork)\n",
        "\n",
        "  def list_artworks(self):\n",
        "    for artwork in self.collection:\n",
        "      artwork.display_info()\n",
        "      print(\"-\"*20)\n",
        "\n",
        "  def search_by_title(self, title):\n",
        "    for artwork in self.collection:\n",
        "      if title.lower() in artwork.title.lower():\n",
        "        artwork.display_info()\n",
        "        print(\"-\"*20)\n",
        "\n",
        "  def search_by_artist(self, artist):\n",
        "    for artwork in self.collection:\n",
        "      if artist.lower() in artwork.artist.lower():\n",
        "        artwork.display_info()\n",
        "        print(\"-\"*20)\n",
        "\n",
        "# Example usage\n",
        "gallery = ArtGallery()\n",
        "\n",
        "# Create some artwork objects\n",
        "artwork1 = Artwork(\"Starry Night\", \"Vincent van Gogh\",\n",
        "                   \"A swirling post-impressionist masterpiece...\",\n",
        "                   10000000, \"images/starry_night.jpg\")\n",
        "\n",
        "artwork2 = Artwork(\"The Persistence of Memory\", \"Salvador Dali\",\n",
        "                   \"Melting clocks defy time...\",\n",
        "                   20000000, \"images/persistence_of_memory.jpg\")\n",
        "\n",
        "# Add them to the gallery\n",
        "gallery.add_artwork(artwork1)\n",
        "gallery.add_artwork(artwork2)\n",
        "\n",
        "# List all artworks\n",
        "gallery.list_artworks()\n",
        "\n",
        "# Search by title\n",
        "print(\"Search by title: 'Night'\")\n",
        "gallery.search_by_title(\"Night\")\n",
        "\n",
        "# Search by artist\n",
        "print(\"Search by artist: 'Dali'\")\n",
        "gallery.search_by_artist(\"Dali\")\n"
      ]
    }
  ]
}